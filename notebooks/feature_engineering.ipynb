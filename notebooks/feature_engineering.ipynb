{
 "cells": [
  {
   "cell_type": "markdown",
   "metadata": {},
   "source": [
    "### Feature Engineering for ARIMA & Gradient Boosting\n",
    "Since ARIMA and Gradient Boosting (e.g., XGBoost) require different types of features, I'll create two separate feature engineering pipelines:\n",
    "\n",
    "1️ For ARIMA (Time-Series Specific Features)\n",
    "\n",
    "2️ For Gradient Boosting (Lagged Features, Rolling Statistics, and Volatility Metrics)"
   ]
  },
  {
   "cell_type": "markdown",
   "metadata": {},
   "source": [
    "ARIMA Requires:\n",
    "\n",
    "Stationary Data (ARIMA assumes the series is stationary)\n",
    "\n",
    "Lagged Values (Previous stock prices)\n",
    "\n",
    "Differencing (To remove trends)\n",
    "\n",
    "Seasonal Features (e.g., month, day of week)\n",
    "\n",
    "\n"
   ]
  },
  {
   "cell_type": "code",
   "execution_count": 2,
   "metadata": {},
   "outputs": [
    {
     "name": "stdout",
     "output_type": "stream",
     "text": [
      "✅ ARIMA Features saved: '../data/processed/AAPL_arima_features.csv'\n"
     ]
    }
   ],
   "source": [
    "import pandas as pd\n",
    "import numpy as np\n",
    "\n",
    "# **Feature Engineering for ARIMA**\n",
    "def prepare_arima_features(df: pd.DataFrame, stock: str) -> pd.DataFrame:\n",
    "    \"\"\"\n",
    "    Feature engineering for ARIMA models. Prepares a stationary time series by:\n",
    "    - Adding differencing\n",
    "    - Creating seasonal features (month, day-of-week)\n",
    "    - Keeping only necessary columns\n",
    "    \"\"\"\n",
    "    col_name = f\"{stock}_Close\"\n",
    "    \n",
    "    if col_name not in df.columns:\n",
    "        raise ValueError(f\"Column {col_name} not found in the dataset!\")\n",
    "    \n",
    "    df[\"Date\"] = pd.to_datetime(df[\"Date\"])\n",
    "    df.set_index(\"Date\", inplace=True)\n",
    "    \n",
    "    # **Apply differencing to remove trends**\n",
    "    df[f\"{stock}_Close_Diff_1\"] = df[col_name].diff(1)  # First-order differencing\n",
    "    df[f\"{stock}_Close_Diff_2\"] = df[col_name].diff(2)  # Second-order differencing\n",
    "    \n",
    "    # **Create Seasonal Features**\n",
    "    df[\"Month\"] = df.index.month\n",
    "    df[\"Day_of_Week\"] = df.index.dayofweek\n",
    "    \n",
    "    # **Drop NA values (from differencing)**\n",
    "    df.dropna(inplace=True)\n",
    "    \n",
    "    return df[[f\"{stock}_Close_Diff_1\", f\"{stock}_Close_Diff_2\", \"Month\", \"Day_of_Week\"]]\n",
    "\n",
    "if __name__ == \"__main__\":\n",
    "    df = pd.read_csv(\"../data/processed/final_merged_stock_data.csv\")\n",
    "    selected_stock = \"AAPL\"  # Modify this to select a stock\n",
    "    df_arima = prepare_arima_features(df, selected_stock)\n",
    "    \n",
    "    df_arima.to_csv(f\"../data/feature_engineering data/{selected_stock}_arima_features.csv\")\n",
    "    print(f\"✅ ARIMA Features saved: '../data/processed/{selected_stock}_arima_features.csv'\")\n"
   ]
  },
  {
   "cell_type": "markdown",
   "metadata": {},
   "source": [
    "### Gradient Boosting Requires:\n",
    "\n",
    "Lagged Features (e.g., past 1, 5, 10-day prices)\n",
    "\n",
    "Rolling Statistics (e.g., rolling mean, rolling std)\n",
    "\n",
    "Volatility Metrics (e.g., ATR, Percentage Change)\n",
    "\n",
    "Market Sentiment Features (if available)"
   ]
  },
  {
   "cell_type": "code",
   "execution_count": 5,
   "metadata": {},
   "outputs": [
    {
     "name": "stdout",
     "output_type": "stream",
     "text": [
      "✅ Boosting Features saved: '../data/feature_engineering data/AAPL_boosting_features.csv'\n"
     ]
    }
   ],
   "source": [
    "import pandas as pd\n",
    "import os\n",
    "\n",
    "# Load merged stock dataset\n",
    "data_path = \"../data/processed/final_merged_stock_data.csv\"  # Ensure this file exists!\n",
    "df = pd.read_csv(data_path)\n",
    "\n",
    "# Extract all stock symbols dynamically\n",
    "stock_symbols = [col.split(\"_\")[0] for col in df.columns if \"_Close\" in col]\n",
    "print(f\"✅ Detected stock symbols: {stock_symbols}\")\n",
    "\n",
    "# Ensure the output directory exists\n",
    "feature_dir = \"../data/feature_engineering data\"\n",
    "os.makedirs(feature_dir, exist_ok=True)\n",
    "\n",
    "# 🛠️ Feature Engineering Functions\n",
    "\n",
    "# Lagged Features\n",
    "def add_lag_features(df, stock, lags=[1, 3, 5, 10, 20]):\n",
    "    col_name = f\"{stock}_Close\"\n",
    "    for lag in lags:\n",
    "        df[f\"{stock}_Close_Lag_{lag}\"] = df[col_name].shift(lag)\n",
    "    return df\n",
    "\n",
    "# Rolling Statistics\n",
    "def add_rolling_stats(df, stock, windows=[7, 14, 30]):\n",
    "    col_name = f\"{stock}_Close\"\n",
    "    for window in windows:\n",
    "        df[f\"{stock}_Close_RollMean_{window}\"] = df[col_name].rolling(window).mean()\n",
    "        df[f\"{stock}_Close_RollStd_{window}\"] = df[col_name].rolling(window).std()\n",
    "        df[f\"{stock}_Close_EWMA_{window}\"] = df[col_name].ewm(span=window, adjust=False).mean()\n",
    "    return df\n",
    "\n",
    "# Volatility & Momentum Features\n",
    "def add_volatility_features(df, stock):\n",
    "    col_name = f\"{stock}_Close\"\n",
    "    df[f\"{stock}_Close_PctChange\"] = df[col_name].pct_change()\n",
    "    df[f\"{stock}_High_Low\"] = df[f\"{stock}_High\"] - df[f\"{stock}_Low\"]\n",
    "    df[f\"{stock}_ATR_14\"] = df[f\"{stock}_High_Low\"].rolling(14).mean()\n",
    "    df[f\"{stock}_Bollinger_High\"] = df[f\"{stock}_Close\"].rolling(20).mean() + (df[f\"{stock}_Close\"].rolling(20).std() * 2)\n",
    "    df[f\"{stock}_Bollinger_Low\"] = df[f\"{stock}_Close\"].rolling(20).mean() - (df[f\"{stock}_Close\"].rolling(20).std() * 2)\n",
    "    return df\n",
    "\n",
    "# Momentum Features\n",
    "def add_momentum_features(df, stock):\n",
    "    col_name = f\"{stock}_Close\"\n",
    "    delta = df[col_name].diff()\n",
    "    gain = (delta.where(delta > 0, 0)).rolling(14).mean()\n",
    "    loss = (-delta.where(delta < 0, 0)).rolling(14).mean()\n",
    "    rs = gain / loss\n",
    "    df[f\"{stock}_RSI_14\"] = 100 - (100 / (1 + rs))\n",
    "    short_ema = df[col_name].ewm(span=12, adjust=False).mean()\n",
    "    long_ema = df[col_name].ewm(span=26, adjust=False).mean()\n",
    "    df[f\"{stock}_MACD\"] = short_ema - long_ema\n",
    "    df[f\"{stock}_MACD_Signal\"] = df[f\"{stock}_MACD\"].ewm(span=9, adjust=False).mean()\n",
    "    return df\n",
    "\n",
    "# Volume-Based Features\n",
    "def add_volume_features(df, stock):\n",
    "    col_name = f\"{stock}_Close\"\n",
    "    df[f\"{stock}_VWAP\"] = (df[col_name] * df[f\"{stock}_Volume\"]).cumsum() / df[f\"{stock}_Volume\"].cumsum()\n",
    "    df[f\"{stock}_VROC_10\"] = ((df[f\"{stock}_Volume\"] - df[f\"{stock}_Volume\"].shift(10)) / df[f\"{stock}_Volume\"].shift(10)) * 100\n",
    "    return df\n",
    "\n",
    "# **Final Feature Engineering Pipeline**\n",
    "def prepare_boosting_features(df, stock):\n",
    "    df = df.copy()\n",
    "    df[\"Date\"] = pd.to_datetime(df[\"Date\"])\n",
    "    df.sort_values(by=\"Date\", inplace=True)\n",
    "    \n",
    "    df = add_lag_features(df, stock)\n",
    "    df = add_rolling_stats(df, stock)\n",
    "    df = add_volatility_features(df, stock)\n",
    "    df = add_momentum_features(df, stock)\n",
    "    df = add_volume_features(df, stock)\n",
    "\n",
    "    df.dropna(inplace=True)  # Drop missing values\n",
    "\n",
    "    feature_cols = [col for col in df.columns if stock in col]\n",
    "    return df[[\"Date\"] + feature_cols]\n",
    "\n",
    "# **Generate Features for Each Stock**\n",
    "for stock in stock_symbols:\n",
    "    df_features = prepare_boosting_features(df, stock)\n",
    "    feature_file = os.path.join(feature_dir, f\"{stock}_boosting_features.csv\")\n",
    "    df_features.to_csv(feature_file, index=False)\n",
    "    print(f\"✅ {stock}_boosting_features.csv created!\")\n",
    "\n",
    "print(\"\\n🚀 All feature-engineered datasets have been successfully generated!\")\n"
   ]
  },
  {
   "cell_type": "code",
   "execution_count": null,
   "metadata": {},
   "outputs": [],
   "source": []
  }
 ],
 "metadata": {
  "kernelspec": {
   "display_name": "base",
   "language": "python",
   "name": "python3"
  },
  "language_info": {
   "codemirror_mode": {
    "name": "ipython",
    "version": 3
   },
   "file_extension": ".py",
   "mimetype": "text/x-python",
   "name": "python",
   "nbconvert_exporter": "python",
   "pygments_lexer": "ipython3",
   "version": "3.12.2"
  }
 },
 "nbformat": 4,
 "nbformat_minor": 2
}
