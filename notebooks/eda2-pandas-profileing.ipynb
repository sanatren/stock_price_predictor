{
 "cells": [
  {
   "cell_type": "markdown",
   "metadata": {},
   "source": [
    "### How to View the Report?\n",
    "1️⃣ Run the script, and it will generate stock_data_report.html\n",
    "\n",
    "2️⃣ Open the HTML file in your browser to explore interactive graphs & insights."
   ]
  },
  {
   "cell_type": "code",
   "execution_count": null,
   "metadata": {},
   "outputs": [
    {
     "name": "stderr",
     "output_type": "stream",
     "text": [
      "/opt/homebrew/Caskroom/miniconda/base/lib/python3.12/site-packages/tqdm/auto.py:21: TqdmWarning: IProgress not found. Please update jupyter and ipywidgets. See https://ipywidgets.readthedocs.io/en/stable/user_install.html\n",
      "  from .autonotebook import tqdm as notebook_tqdm\n",
      "Summarize dataset:   7%|▋         | 987/14528 [00:43<09:38, 23.40it/s, scatter IBM.2, NVDA]            "
     ]
    }
   ],
   "source": [
    "import pandas as pd\n",
    "from ydata_profiling import ProfileReport\n",
    "\n",
    "# **Load Your Stock Data**\n",
    "df = pd.read_csv(\"../data/processed/final_merged_stock_data.csv\", parse_dates=[\"Date\"])\n",
    "\n",
    "# **Generate EDA Report**\n",
    "profile = ProfileReport(df, title=\"Stock Data EDA Report\", explorative=True)\n",
    "\n",
    "# **Save as an HTML file**\n",
    "profile.to_file(\"eda_outputs/stock_data_report.html\") ##put your own path\n",
    "\n",
    "print(\"EDA Report saved as 'eda_outputs/stock_data_report.html'\")\n"
   ]
  },
  {
   "cell_type": "code",
   "execution_count": null,
   "metadata": {},
   "outputs": [],
   "source": []
  }
 ],
 "metadata": {
  "kernelspec": {
   "display_name": "base",
   "language": "python",
   "name": "python3"
  },
  "language_info": {
   "codemirror_mode": {
    "name": "ipython",
    "version": 3
   },
   "file_extension": ".py",
   "mimetype": "text/x-python",
   "name": "python",
   "nbconvert_exporter": "python",
   "pygments_lexer": "ipython3",
   "version": "3.12.2"
  }
 },
 "nbformat": 4,
 "nbformat_minor": 2
}
